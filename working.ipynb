{
 "cells": [
  {
   "cell_type": "code",
   "execution_count": 2,
   "metadata": {},
   "outputs": [],
   "source": [
    "import torch\n",
    "import torch.nn as nn\n",
    "import timm.models.swin_transformer_v2 as swinv2\n",
    "from timm.models.helpers import load_state_dict\n",
    "import timm\n",
    "\n",
    "class testmodel():\n",
    "    def __init__(self, num_classes_list, model_name, projector_features = None, use_mlp=False):\n",
    "        super().__init__()\n",
    "        assert num_classes_list is not None\n",
    "        self.backbone = timm.create_model(model_name, pretrained=True, num_classes = 0)\n",
    "        self.projector = None \n",
    "        if projector_features:\n",
    "            encoder_features = self.backbone.num_features\n",
    "            self.num_features = projector_features\n",
    "            if use_mlp:\n",
    "                self.projector = nn.Sequential(nn.Linear(encoder_features, self.num_features), nn.ReLU(inplace=True), nn.Linear(self.num_features, self.num_features))\n",
    "            else:\n",
    "                self.projector = nn.Linear(encoder_features, self.num_features)\n",
    "        \n",
    "        #multi-task heads\n",
    "        self.omni_heads = []  \n",
    "        for num_classes in num_classes_list:\n",
    "            self.omni_heads.append(nn.Linear(self.num_features, num_classes) if num_classes > 0 else nn.Identity())\n",
    "        self.omni_heads = nn.ModuleList(self.omni_heads)\n",
    "\n",
    "    def forward(self, x, head_n=None):\n",
    "        x = self.backbone(x)\n",
    "        if self.projector:\n",
    "            x = self.projector(x)\n",
    "        if head_n is not None:\n",
    "            return x, self.omni_heads[head_n](x)\n",
    "        else:\n",
    "            return [head(x) for head in self.omni_heads]\n",
    "\n",
    "    def generate_embeddings(self, x, after_proj = True):\n",
    "        x = self.backbone(x)\n",
    "        if after_proj:\n",
    "            x = self.projector(x)\n",
    "    def __str__(self):\n",
    "        # Customize the representation of your model here\n",
    "        return \"Custom Test Model:\\n\" + str(self.backbone) + \"\\nProjector: \" + str(self.projector) + \"\\nOmni Heads: \" + str(self.omni_heads)"
   ]
  },
  {
   "cell_type": "code",
   "execution_count": 4,
   "metadata": {},
   "outputs": [
    {
     "name": "stdout",
     "output_type": "stream",
     "text": [
      "['swinv2_large_window12_192', 'swinv2_large_window12to16_192to256', 'swinv2_large_window12to24_192to384']\n"
     ]
    }
   ],
   "source": [
    "print(timm.list_models(\"*swinv2_large*\"))\n",
    "# model = timm.create_model('swinv2_base_window12_192', pretrained=True)\n",
    "    # print(model)\n",
    "# model = testmodel([14, 14, 2, 14, 2], model_name=\"swinv2_base_window12_192\", projector_features=1376)\n",
    "# print(model)"
   ]
  },
  {
   "cell_type": "code",
   "execution_count": null,
   "metadata": {},
   "outputs": [],
   "source": []
  }
 ],
 "metadata": {
  "kernelspec": {
   "display_name": "ml10",
   "language": "python",
   "name": "ml10"
  },
  "language_info": {
   "codemirror_mode": {
    "name": "ipython",
    "version": 3
   },
   "file_extension": ".py",
   "mimetype": "text/x-python",
   "name": "python",
   "nbconvert_exporter": "python",
   "pygments_lexer": "ipython3",
   "version": "3.11.5"
  }
 },
 "nbformat": 4,
 "nbformat_minor": 2
}
